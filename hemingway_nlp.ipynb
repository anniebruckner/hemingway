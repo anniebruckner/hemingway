{
 "cells": [
  {
   "cell_type": "code",
   "execution_count": 1,
   "metadata": {
    "collapsed": false
   },
   "outputs": [
    {
     "data": {
      "text/plain": [
       "'/Users/annie'"
      ]
     },
     "execution_count": 1,
     "metadata": {},
     "output_type": "execute_result"
    }
   ],
   "source": [
    "#Use Terminal to download folder from GitHub\n",
    "#First change directory\n",
    "#cd '/Users/annie/Desktop/Northwestern/PREDICT_453/Hemingway/IOT'\n",
    "#Then download file by replacing 'tree/master' with trunk\n",
    "#svn checkout https://github.com/anniebruckner/trunk/hemingway\n",
    "# SOURCE: http://stackoverflow.com/questions/7106012/download-a-single-folder-or-directory-from-a-github-repo\n",
    "\n",
    "#get working directory\n",
    "import os\n",
    "os.getcwd() # Prints the working directory\n",
    "#option+return executes the code block"
   ]
  },
  {
   "cell_type": "code",
   "execution_count": 2,
   "metadata": {
    "collapsed": false
   },
   "outputs": [
    {
     "data": {
      "text/plain": [
       "'/Users/annie/Desktop/Northwestern/PREDICT_453/Hemingway/IOT/noTitles'"
      ]
     },
     "execution_count": 2,
     "metadata": {},
     "output_type": "execute_result"
    }
   ],
   "source": [
    "#change working directory\n",
    "os.chdir('/Users/annie/Desktop/Northwestern/PREDICT_453/Hemingway/IOT/noTitles')\n",
    "os.getcwd()\n",
    "#This is just to tell Python where to find the .txt files--the .ipynb saves in '/Users/annie/'"
   ]
  },
  {
   "cell_type": "code",
   "execution_count": 3,
   "metadata": {
    "collapsed": false
   },
   "outputs": [
    {
     "data": {
      "text/plain": [
       "3745"
      ]
     },
     "execution_count": 3,
     "metadata": {},
     "output_type": "execute_result"
    }
   ],
   "source": [
    "story = open('IOT_OnTheQuaiAtSmyrna.txt').read() # change text file each time -- need to do a better way\n",
    "len(story)\n",
    "## want to write for loop or define function so I can do all the processing for each story\n",
    "## without having to change the path name each time"
   ]
  },
  {
   "cell_type": "code",
   "execution_count": 4,
   "metadata": {
    "collapsed": false
   },
   "outputs": [
    {
     "name": "stdout",
     "output_type": "stream",
     "text": [
      "['The', 'strange', 'thing', 'was', ',', 'he', 'said', ',', 'how', 'they', 'screamed', 'every', 'night', 'at', 'midnight', '.', 'I', 'do', 'not', 'know', 'why', 'they', 'screamed', 'at', 'that', 'time', '.', 'We', 'were', 'in', 'the', 'harbor', 'and', 'they', 'were', 'all', 'on', 'the', 'pier', 'and', 'at', 'midnight', 'they', 'started', 'screaming', '.', 'We', 'used', 'to', 'turn', 'the', 'searchlight', 'on', 'them', 'to', 'quiet', 'them', '.', 'That', 'always', 'did', 'the', 'trick', '.', 'We’d', 'run', 'the', 'searchlight', 'up', 'and', 'down', 'over', 'them', 'two', 'or', 'three', 'times', 'and', 'they', 'stopped', 'it', '.', 'One', 'time', 'I', 'was', 'senior', 'officer', 'on', 'the', 'pier', 'and', 'a', 'Turkish', 'officer', 'came', 'up', 'to', 'me', 'in', 'a', 'frightful', 'rage', 'because', 'one', 'of', 'our', 'sailors', 'had', 'been', 'most', 'insulting', 'to', 'him', '.', 'So', 'I', 'told', 'him', 'the', 'fellow', 'would', 'be', 'sent', 'on', 'ship', 'and', 'be', 'most', 'severely', 'punished', '.', 'I', 'asked', 'him', 'to', 'point', 'him', 'out', '.', 'So', 'he', 'pointed', 'out', 'a', 'gunner’s', 'mate', ',', 'most', 'inoffensive', 'chap', '.', 'Said', 'he’d', 'been', 'most', 'frightfully', 'and', 'repeatedly', 'insulting', ';', 'talking', 'to', 'me', 'through', 'an', 'interpreter', '.', 'I', 'couldn’t', 'imagine', 'how', 'the', 'gunner’s', 'mate', 'knew', 'enough', 'Turkish', 'to', 'be', 'insulting', '.', 'I', 'called', 'him', 'over', 'and', 'said', ',', '“And', 'just', 'in', 'case', 'you', 'should', 'have', 'spoken', 'to', 'any', 'Turkish', 'officers.”', '“I', 'haven’t', 'spoken', 'to', 'any', 'of', 'them', ',', 'sir.”', '“I’m', 'quite', 'sure', 'of', 'it', ',', '”', 'I', 'said', ',', '“but', 'you’d', 'best', 'go', 'on', 'board', 'ship', 'and', 'not', 'come', 'ashore', 'again', 'for', 'the', 'rest', 'of', 'the', 'day.”', 'Then', 'I', 'told', 'the', 'Turk', 'the', 'man', 'was', 'being', 'sent', 'on', 'board', 'ship', 'and', 'would', 'be', 'most', 'severely', 'dealt', 'with', '.', 'Oh', 'most', 'rigorously', '.', 'He', 'felt', 'topping', 'about', 'it', '.', 'Great', 'friends', 'we', 'were', '.', 'The', 'worst', ',', 'he', 'said', ',', 'were', 'the', 'women', 'with', 'dead', 'babies', '.', 'You', 'couldn’t', 'get', 'the', 'women', 'to', 'give', 'up', 'their', 'dead', 'babies', '.', 'They’d', 'have', 'babies', 'dead', 'for', 'six', 'days', '.', 'Wouldn’t', 'give', 'them', 'up', '.', 'Nothing', 'you', 'could', 'do', 'about', 'it', '.', 'Had', 'to', 'take', 'them', 'away', 'finally', '.', 'Then', 'there', 'was', 'an', 'old', 'lady', ',', 'most', 'extraordinary', 'case', '.', 'I', 'told', 'it', 'to', 'a', 'doctor', 'and', 'he', 'said', 'I', 'was', 'lying', '.', 'We', 'were', 'clearing', 'them', 'off', 'the', 'pier', ',', 'had', 'to', 'clear', 'off', 'the', 'dead', 'ones', ',', 'and', 'this', 'old', 'woman', 'was', 'lying', 'on', 'a', 'sort', 'of', 'litter', '.', 'They', 'said', ',', '“Will', 'you', 'have', 'a', 'look', 'at', 'her', ',', 'sir', '?', '”', 'So', 'I', 'had', 'a', 'look', 'at', 'her', 'and', 'just', 'then', 'she', 'died', 'and', 'went', 'absolutely', 'stiff', '.', 'Her', 'legs', 'drew', 'up', 'and', 'she', 'drew', 'up', 'from', 'the', 'waist', 'and', 'went', 'quite', 'rigid', '.', 'Exactly', 'as', 'though', 'she', 'had', 'been', 'dead', 'over', 'night', '.', 'She', 'was', 'quite', 'dead', 'and', 'absolutely', 'rigid', '.', 'I', 'told', 'a', 'medical', 'chap', 'about', 'it', 'and', 'he', 'told', 'me', 'it', 'was', 'impossible', '.', 'They', 'were', 'all', 'out', 'there', 'on', 'the', 'pier', 'and', 'it', 'wasn’t', 'at', 'all', 'like', 'an', 'earthquake', 'or', 'that', 'sort', 'of', 'thing', 'because', 'they', 'never', 'knew', 'about', 'the', 'Turk', '.', 'They', 'never', 'knew', 'what', 'the', 'old', 'Turk', 'would', 'do', '.', 'You', 'remember', 'when', 'they', 'ordered', 'us', 'not', 'to', 'come', 'in', 'to', 'take', 'off', 'any', 'more', '?', 'I', 'had', 'the', 'wind', 'up', 'when', 'we', 'came', 'in', 'that', 'morning', '.', 'He', 'had', 'any', 'amount', 'of', 'batteries', 'and', 'could', 'have', 'blown', 'us', 'clean', 'out', 'of', 'the', 'water', '.', 'We', 'were', 'going', 'to', 'come', 'in', ',', 'run', 'close', 'along', 'the', 'pier', ',', 'let', 'go', 'the', 'front', 'and', 'rear', 'anchors', 'and', 'then', 'shell', 'the', 'Turkish', 'quarter', 'of', 'the', 'town', '.', 'They', 'would', 'have', 'blown', 'us', 'out', 'of', 'water', 'but', 'we', 'would', 'have', 'blown', 'the', 'town', 'simply', 'to', 'hell', '.', 'They', 'just', 'fired', 'a', 'few', 'blank', 'charges', 'at', 'us', 'as', 'we', 'came', 'in', '.', 'Kemal', 'came', 'down', 'and', 'sacked', 'the', 'Turkish', 'commander', '.', 'For', 'exceeding', 'his', 'authority', 'or', 'some', 'such', 'thing', '.', 'He', 'got', 'a', 'bit', 'above', 'himself', '.', 'It', 'would', 'have', 'been', 'the', 'hell', 'of', 'a', 'mess', '.', 'You', 'remember', 'the', 'harbor', '.', 'There', 'were', 'plenty', 'of', 'nice', 'things', 'floating', 'around', 'in', 'it', '.', 'That', 'was', 'the', 'only', 'time', 'in', 'my', 'life', 'I', 'got', 'so', 'I', 'dreamed', 'about', 'things', '.', 'You', 'didn’t', 'mind', 'the', 'women', 'who', 'were', 'having', 'babies', 'as', 'you', 'did', 'those', 'with', 'the', 'dead', 'ones', '.', 'They', 'had', 'them', 'all', 'right', '.', 'Surprising', 'how', 'few', 'of', 'them', 'died', '.', 'You', 'just', 'covered', 'them', 'over', 'with', 'something', 'and', 'let', 'them', 'go', 'to', 'it', '.', 'They’d', 'always', 'pick', 'out', 'the', 'darkest', 'place', 'in', 'the', 'hold', 'to', 'have', 'them', '.', 'None', 'of', 'them', 'minded', 'anything', 'once', 'they', 'got', 'off', 'the', 'pier', '.', 'The', 'Greeks', 'were', 'nice', 'chaps', 'too', '.', 'When', 'they', 'evacuated', 'they', 'had', 'all', 'their', 'baggage', 'animals', 'they', 'couldn’t', 'take', 'off', 'with', 'them', 'so', 'they', 'just', 'broke', 'their', 'forelegs', 'and', 'dumped', 'them', 'into', 'the', 'shallow', 'water', '.', 'All', 'those', 'mules', 'with', 'their', 'forelegs', 'broken', 'pushed', 'over', 'into', 'the', 'shallow', 'water', '.', 'It', 'was', 'all', 'a', 'pleasant', 'business', '.', 'My', 'word', 'yes', 'a', 'most', 'pleasant', 'business', '.']\n"
     ]
    }
   ],
   "source": [
    "#First import the Python package nltk (Natural Language Tool Kit)\n",
    "import nltk\n",
    "\n",
    "#import the function to split the text into separate words from the NLTK package\n",
    "from nltk import word_tokenize\n",
    "\n",
    "#create new variable that applies the word_tokenize function to our sentence.\n",
    "story_tokens = word_tokenize(story)\n",
    "\n",
    "#This new variable contains the tokenized text, and is now a variable type called a list.\n",
    "print(story_tokens)"
   ]
  },
  {
   "cell_type": "code",
   "execution_count": 5,
   "metadata": {
    "collapsed": false
   },
   "outputs": [
    {
     "name": "stdout",
     "output_type": "stream",
     "text": [
      "808\n"
     ]
    }
   ],
   "source": [
    "print(len(story_tokens)) ##CUT"
   ]
  },
  {
   "cell_type": "code",
   "execution_count": 6,
   "metadata": {
    "collapsed": false
   },
   "outputs": [
    {
     "data": {
      "text/plain": [
       "74"
      ]
     },
     "execution_count": 6,
     "metadata": {},
     "output_type": "execute_result"
    }
   ],
   "source": [
    "##CUT How many words in the novel appear in title case?\n",
    "words = story.split()\n",
    "len([word for word in words if word.istitle()])"
   ]
  },
  {
   "cell_type": "code",
   "execution_count": 7,
   "metadata": {
    "collapsed": false
   },
   "outputs": [
    {
     "data": {
      "text/plain": [
       "4.10792349726776"
      ]
     },
     "execution_count": 7,
     "metadata": {},
     "output_type": "execute_result"
    }
   ],
   "source": [
    "##CUT Approximately how long is the average word in the novel?\n",
    "average = sum(len(word) for word in words)/len(words)\n",
    "average"
   ]
  },
  {
   "cell_type": "code",
   "execution_count": 8,
   "metadata": {
    "collapsed": false
   },
   "outputs": [
    {
     "name": "stdout",
     "output_type": "stream",
     "text": [
      "[('.', 55), ('the', 38), ('and', 25), ('to', 19), (',', 16), ('I', 15), ('them', 15), ('of', 14), ('a', 13), ('they', 12)]\n"
     ]
    }
   ],
   "source": [
    "#apply the nltk function FreqDist to count the number of times each token occurs.\n",
    "story_word_frequency = nltk.FreqDist(story_tokens)\n",
    "\n",
    "#print out the 10 most frequent words using the function most_common\n",
    "print(story_word_frequency.most_common(10))"
   ]
  },
  {
   "cell_type": "code",
   "execution_count": 12,
   "metadata": {
    "collapsed": false
   },
   "outputs": [
    {
     "name": "stdout",
     "output_type": "stream",
     "text": [
      "['the', 'strange', 'thing', 'was', ',', 'he', 'said', ',', 'how', 'they', 'screamed', 'every', 'night', 'at', 'midnight', '.', 'i', 'do', 'not', 'know', 'why', 'they', 'screamed', 'at', 'that', 'time', '.', 'we', 'were', 'in', 'the', 'harbor', 'and', 'they', 'were', 'all', 'on', 'the', 'pier', 'and', 'at', 'midnight', 'they', 'started', 'screaming', '.', 'we', 'used', 'to', 'turn', 'the', 'searchlight', 'on', 'them', 'to', 'quiet', 'them', '.', 'that', 'always', 'did', 'the', 'trick', '.', 'we’d', 'run', 'the', 'searchlight', 'up', 'and', 'down', 'over', 'them', 'two', 'or', 'three', 'times', 'and', 'they', 'stopped', 'it', '.', 'one', 'time', 'i', 'was', 'senior', 'officer', 'on', 'the', 'pier', 'and', 'a', 'turkish', 'officer', 'came', 'up', 'to', 'me', 'in', 'a', 'frightful', 'rage', 'because', 'one', 'of', 'our', 'sailors', 'had', 'been', 'most', 'insulting', 'to', 'him', '.', 'so', 'i', 'told', 'him', 'the', 'fellow', 'would', 'be', 'sent', 'on', 'ship', 'and', 'be', 'most', 'severely', 'punished', '.', 'i', 'asked', 'him', 'to', 'point', 'him', 'out', '.', 'so', 'he', 'pointed', 'out', 'a', 'gunner’s', 'mate', ',', 'most', 'inoffensive', 'chap', '.', 'said', 'he’d', 'been', 'most', 'frightfully', 'and', 'repeatedly', 'insulting', ';', 'talking', 'to', 'me', 'through', 'an', 'interpreter', '.', 'i', 'couldn’t', 'imagine', 'how', 'the', 'gunner’s', 'mate', 'knew', 'enough', 'turkish', 'to', 'be', 'insulting', '.', 'i', 'called', 'him', 'over', 'and', 'said', ',', '“and', 'just', 'in', 'case', 'you', 'should', 'have', 'spoken', 'to', 'any', 'turkish', 'officers.”', '“i', 'haven’t', 'spoken', 'to', 'any', 'of', 'them', ',', 'sir.”', '“i’m', 'quite', 'sure', 'of', 'it', ',', '”', 'i', 'said', ',', '“but', 'you’d', 'best', 'go', 'on', 'board', 'ship', 'and', 'not', 'come', 'ashore', 'again', 'for', 'the', 'rest', 'of', 'the', 'day.”', 'then', 'i', 'told', 'the', 'turk', 'the', 'man', 'was', 'being', 'sent', 'on', 'board', 'ship', 'and', 'would', 'be', 'most', 'severely', 'dealt', 'with', '.', 'oh', 'most', 'rigorously', '.', 'he', 'felt', 'topping', 'about', 'it', '.', 'great', 'friends', 'we', 'were', '.', 'the', 'worst', ',', 'he', 'said', ',', 'were', 'the', 'women', 'with', 'dead', 'babies', '.', 'you', 'couldn’t', 'get', 'the', 'women', 'to', 'give', 'up', 'their', 'dead', 'babies', '.', 'they’d', 'have', 'babies', 'dead', 'for', 'six', 'days', '.', 'wouldn’t', 'give', 'them', 'up', '.', 'nothing', 'you', 'could', 'do', 'about', 'it', '.', 'had', 'to', 'take', 'them', 'away', 'finally', '.', 'then', 'there', 'was', 'an', 'old', 'lady', ',', 'most', 'extraordinary', 'case', '.', 'i', 'told', 'it', 'to', 'a', 'doctor', 'and', 'he', 'said', 'i', 'was', 'lying', '.', 'we', 'were', 'clearing', 'them', 'off', 'the', 'pier', ',', 'had', 'to', 'clear', 'off', 'the', 'dead', 'ones', ',', 'and', 'this', 'old', 'woman', 'was', 'lying', 'on', 'a', 'sort', 'of', 'litter', '.', 'they', 'said', ',', '“will', 'you', 'have', 'a', 'look', 'at', 'her', ',', 'sir', '?', '”', 'so', 'i', 'had', 'a', 'look', 'at', 'her', 'and', 'just', 'then', 'she', 'died', 'and', 'went', 'absolutely', 'stiff', '.', 'her', 'legs', 'drew', 'up', 'and', 'she', 'drew', 'up', 'from', 'the', 'waist', 'and', 'went', 'quite', 'rigid', '.', 'exactly', 'as', 'though', 'she', 'had', 'been', 'dead', 'over', 'night', '.', 'she', 'was', 'quite', 'dead', 'and', 'absolutely', 'rigid', '.', 'i', 'told', 'a', 'medical', 'chap', 'about', 'it', 'and', 'he', 'told', 'me', 'it', 'was', 'impossible', '.', 'they', 'were', 'all', 'out', 'there', 'on', 'the', 'pier', 'and', 'it', 'wasn’t', 'at', 'all', 'like', 'an', 'earthquake', 'or', 'that', 'sort', 'of', 'thing', 'because', 'they', 'never', 'knew', 'about', 'the', 'turk', '.', 'they', 'never', 'knew', 'what', 'the', 'old', 'turk', 'would', 'do', '.', 'you', 'remember', 'when', 'they', 'ordered', 'us', 'not', 'to', 'come', 'in', 'to', 'take', 'off', 'any', 'more', '?', 'i', 'had', 'the', 'wind', 'up', 'when', 'we', 'came', 'in', 'that', 'morning', '.', 'he', 'had', 'any', 'amount', 'of', 'batteries', 'and', 'could', 'have', 'blown', 'us', 'clean', 'out', 'of', 'the', 'water', '.', 'we', 'were', 'going', 'to', 'come', 'in', ',', 'run', 'close', 'along', 'the', 'pier', ',', 'let', 'go', 'the', 'front', 'and', 'rear', 'anchors', 'and', 'then', 'shell', 'the', 'turkish', 'quarter', 'of', 'the', 'town', '.', 'they', 'would', 'have', 'blown', 'us', 'out', 'of', 'water', 'but', 'we', 'would', 'have', 'blown', 'the', 'town', 'simply', 'to', 'hell', '.', 'they', 'just', 'fired', 'a', 'few', 'blank', 'charges', 'at', 'us', 'as', 'we', 'came', 'in', '.', 'kemal', 'came', 'down', 'and', 'sacked', 'the', 'turkish', 'commander', '.', 'for', 'exceeding', 'his', 'authority', 'or', 'some', 'such', 'thing', '.', 'he', 'got', 'a', 'bit', 'above', 'himself', '.', 'it', 'would', 'have', 'been', 'the', 'hell', 'of', 'a', 'mess', '.', 'you', 'remember', 'the', 'harbor', '.', 'there', 'were', 'plenty', 'of', 'nice', 'things', 'floating', 'around', 'in', 'it', '.', 'that', 'was', 'the', 'only', 'time', 'in', 'my', 'life', 'i', 'got', 'so', 'i', 'dreamed', 'about', 'things', '.', 'you', 'didn’t', 'mind', 'the', 'women', 'who', 'were', 'having', 'babies', 'as', 'you', 'did', 'those', 'with', 'the', 'dead', 'ones', '.', 'they', 'had', 'them', 'all', 'right', '.', 'surprising', 'how', 'few', 'of', 'them', 'died', '.', 'you', 'just', 'covered', 'them', 'over', 'with', 'something', 'and', 'let', 'them', 'go', 'to', 'it', '.', 'they’d', 'always', 'pick', 'out', 'the', 'darkest', 'place', 'in', 'the', 'hold', 'to', 'have', 'them', '.', 'none', 'of', 'them', 'minded', 'anything', 'once', 'they', 'got', 'off', 'the', 'pier', '.', 'the', 'greeks', 'were', 'nice', 'chaps', 'too', '.', 'when', 'they', 'evacuated', 'they', 'had', 'all', 'their', 'baggage', 'animals', 'they', 'couldn’t', 'take', 'off', 'with', 'them', 'so', 'they', 'just', 'broke', 'their', 'forelegs', 'and', 'dumped', 'them', 'into', 'the', 'shallow', 'water', '.', 'all', 'those', 'mules', 'with', 'their', 'forelegs', 'broken', 'pushed', 'over', 'into', 'the', 'shallow', 'water', '.', 'it', 'was', 'all', 'a', 'pleasant', 'business', '.', 'my', 'word', 'yes', 'a', 'most', 'pleasant', 'business', '.']\n"
     ]
    }
   ],
   "source": [
    "story_tokens_lc = [word.lower() for word in story_tokens]\n",
    "\n",
    "#see the result\n",
    "print(story_tokens_lc)"
   ]
  },
  {
   "cell_type": "code",
   "execution_count": 13,
   "metadata": {
    "collapsed": false
   },
   "outputs": [
    {
     "name": "stdout",
     "output_type": "stream",
     "text": [
      "['i', 'me', 'my', 'myself', 'we', 'our', 'ours', 'ourselves', 'you', 'your', 'yours', 'yourself', 'yourselves', 'he', 'him', 'his', 'himself', 'she', 'her', 'hers', 'herself', 'it', 'its', 'itself', 'they', 'them', 'their', 'theirs', 'themselves', 'what', 'which', 'who', 'whom', 'this', 'that', 'these', 'those', 'am', 'is', 'are', 'was', 'were', 'be', 'been', 'being', 'have', 'has', 'had', 'having', 'do', 'does', 'did', 'doing', 'a', 'an', 'the', 'and', 'but', 'if', 'or', 'because', 'as', 'until', 'while', 'of', 'at', 'by', 'for', 'with', 'about', 'against', 'between', 'into', 'through', 'during', 'before', 'after', 'above', 'below', 'to', 'from', 'up', 'down', 'in', 'out', 'on', 'off', 'over', 'under', 'again', 'further', 'then', 'once', 'here', 'there', 'when', 'where', 'why', 'how', 'all', 'any', 'both', 'each', 'few', 'more', 'most', 'other', 'some', 'such', 'no', 'nor', 'not', 'only', 'own', 'same', 'so', 'than', 'too', 'very', 's', 't', 'can', 'will', 'just', 'don', 'should', 'now', 'd', 'll', 'm', 'o', 're', 've', 'y', 'ain', 'aren', 'couldn', 'didn', 'doesn', 'hadn', 'hasn', 'haven', 'isn', 'ma', 'mightn', 'mustn', 'needn', 'shan', 'shouldn', 'wasn', 'weren', 'won', 'wouldn']\n"
     ]
    }
   ],
   "source": [
    "#import the stopwords list\n",
    "from nltk.corpus import stopwords\n",
    "\n",
    "#take a look at what stop words are included:\n",
    "print(stopwords.words('english'))"
   ]
  },
  {
   "cell_type": "code",
   "execution_count": 14,
   "metadata": {
    "collapsed": false
   },
   "outputs": [
    {
     "name": "stdout",
     "output_type": "stream",
     "text": [
      "['strange', 'thing', ',', 'said', ',', 'screamed', 'every', 'night', 'midnight', '.', 'know', 'screamed', 'time', '.', 'harbor', 'pier', 'midnight', 'started', 'screaming', '.', 'used', 'turn', 'searchlight', 'quiet', '.', 'always', 'trick', '.', 'we’d', 'run', 'searchlight', 'two', 'three', 'times', 'stopped', '.', 'one', 'time', 'senior', 'officer', 'pier', 'turkish', 'officer', 'came', 'frightful', 'rage', 'one', 'sailors', 'insulting', '.', 'told', 'fellow', 'would', 'sent', 'ship', 'severely', 'punished', '.', 'asked', 'point', '.', 'pointed', 'gunner’s', 'mate', ',', 'inoffensive', 'chap', '.', 'said', 'he’d', 'frightfully', 'repeatedly', 'insulting', ';', 'talking', 'interpreter', '.', 'couldn’t', 'imagine', 'gunner’s', 'mate', 'knew', 'enough', 'turkish', 'insulting', '.', 'called', 'said', ',', '“and', 'case', 'spoken', 'turkish', 'officers.”', '“i', 'haven’t', 'spoken', ',', 'sir.”', '“i’m', 'quite', 'sure', ',', '”', 'said', ',', '“but', 'you’d', 'best', 'go', 'board', 'ship', 'come', 'ashore', 'rest', 'day.”', 'told', 'turk', 'man', 'sent', 'board', 'ship', 'would', 'severely', 'dealt', '.', 'oh', 'rigorously', '.', 'felt', 'topping', '.', 'great', 'friends', '.', 'worst', ',', 'said', ',', 'women', 'dead', 'babies', '.', 'couldn’t', 'get', 'women', 'give', 'dead', 'babies', '.', 'they’d', 'babies', 'dead', 'six', 'days', '.', 'wouldn’t', 'give', '.', 'nothing', 'could', '.', 'take', 'away', 'finally', '.', 'old', 'lady', ',', 'extraordinary', 'case', '.', 'told', 'doctor', 'said', 'lying', '.', 'clearing', 'pier', ',', 'clear', 'dead', 'ones', ',', 'old', 'woman', 'lying', 'sort', 'litter', '.', 'said', ',', '“will', 'look', ',', 'sir', '?', '”', 'look', 'died', 'went', 'absolutely', 'stiff', '.', 'legs', 'drew', 'drew', 'waist', 'went', 'quite', 'rigid', '.', 'exactly', 'though', 'dead', 'night', '.', 'quite', 'dead', 'absolutely', 'rigid', '.', 'told', 'medical', 'chap', 'told', 'impossible', '.', 'pier', 'wasn’t', 'like', 'earthquake', 'sort', 'thing', 'never', 'knew', 'turk', '.', 'never', 'knew', 'old', 'turk', 'would', '.', 'remember', 'ordered', 'us', 'come', 'take', '?', 'wind', 'came', 'morning', '.', 'amount', 'batteries', 'could', 'blown', 'us', 'clean', 'water', '.', 'going', 'come', ',', 'run', 'close', 'along', 'pier', ',', 'let', 'go', 'front', 'rear', 'anchors', 'shell', 'turkish', 'quarter', 'town', '.', 'would', 'blown', 'us', 'water', 'would', 'blown', 'town', 'simply', 'hell', '.', 'fired', 'blank', 'charges', 'us', 'came', '.', 'kemal', 'came', 'sacked', 'turkish', 'commander', '.', 'exceeding', 'authority', 'thing', '.', 'got', 'bit', '.', 'would', 'hell', 'mess', '.', 'remember', 'harbor', '.', 'plenty', 'nice', 'things', 'floating', 'around', '.', 'time', 'life', 'got', 'dreamed', 'things', '.', 'didn’t', 'mind', 'women', 'babies', 'dead', 'ones', '.', 'right', '.', 'surprising', 'died', '.', 'covered', 'something', 'let', 'go', '.', 'they’d', 'always', 'pick', 'darkest', 'place', 'hold', '.', 'none', 'minded', 'anything', 'got', 'pier', '.', 'greeks', 'nice', 'chaps', '.', 'evacuated', 'baggage', 'animals', 'couldn’t', 'take', 'broke', 'forelegs', 'dumped', 'shallow', 'water', '.', 'mules', 'forelegs', 'broken', 'pushed', 'shallow', 'water', '.', 'pleasant', 'business', '.', 'word', 'yes', 'pleasant', 'business', '.']\n"
     ]
    }
   ],
   "source": [
    "#create a new variable that contains the sentence tokens without the stopwords\n",
    "story_tokens_clean = [word for word in story_tokens_lc if word not in stopwords.words('english')]\n",
    "\n",
    "#see what words we're left with\n",
    "print(story_tokens_clean)"
   ]
  },
  {
   "cell_type": "code",
   "execution_count": 15,
   "metadata": {
    "collapsed": false
   },
   "outputs": [
    {
     "name": "stdout",
     "output_type": "stream",
     "text": [
      "['!', '\"', '#', '$', '%', '&', \"'\", '(', ')', '*', '+', ',', '-', '.', '/', ':', ';', '<', '=', '>', '?', '@', '[', '\\\\', ']', '^', '_', '`', '{', '|', '}', '~']\n",
      "['strange', 'thing', 'said', 'screamed', 'every', 'night', 'midnight', 'know', 'screamed', 'time', 'harbor', 'pier', 'midnight', 'started', 'screaming', 'used', 'turn', 'searchlight', 'quiet', 'always', 'trick', 'we’d', 'run', 'searchlight', 'two', 'three', 'times', 'stopped', 'one', 'time', 'senior', 'officer', 'pier', 'turkish', 'officer', 'came', 'frightful', 'rage', 'one', 'sailors', 'insulting', 'told', 'fellow', 'would', 'sent', 'ship', 'severely', 'punished', 'asked', 'point', 'pointed', 'gunner’s', 'mate', 'inoffensive', 'chap', 'said', 'he’d', 'frightfully', 'repeatedly', 'insulting', 'talking', 'interpreter', 'couldn’t', 'imagine', 'gunner’s', 'mate', 'knew', 'enough', 'turkish', 'insulting', 'called', 'said', '“and', 'case', 'spoken', 'turkish', 'officers.”', '“i', 'haven’t', 'spoken', 'sir.”', '“i’m', 'quite', 'sure', '”', 'said', '“but', 'you’d', 'best', 'go', 'board', 'ship', 'come', 'ashore', 'rest', 'day.”', 'told', 'turk', 'man', 'sent', 'board', 'ship', 'would', 'severely', 'dealt', 'oh', 'rigorously', 'felt', 'topping', 'great', 'friends', 'worst', 'said', 'women', 'dead', 'babies', 'couldn’t', 'get', 'women', 'give', 'dead', 'babies', 'they’d', 'babies', 'dead', 'six', 'days', 'wouldn’t', 'give', 'nothing', 'could', 'take', 'away', 'finally', 'old', 'lady', 'extraordinary', 'case', 'told', 'doctor', 'said', 'lying', 'clearing', 'pier', 'clear', 'dead', 'ones', 'old', 'woman', 'lying', 'sort', 'litter', 'said', '“will', 'look', 'sir', '”', 'look', 'died', 'went', 'absolutely', 'stiff', 'legs', 'drew', 'drew', 'waist', 'went', 'quite', 'rigid', 'exactly', 'though', 'dead', 'night', 'quite', 'dead', 'absolutely', 'rigid', 'told', 'medical', 'chap', 'told', 'impossible', 'pier', 'wasn’t', 'like', 'earthquake', 'sort', 'thing', 'never', 'knew', 'turk', 'never', 'knew', 'old', 'turk', 'would', 'remember', 'ordered', 'us', 'come', 'take', 'wind', 'came', 'morning', 'amount', 'batteries', 'could', 'blown', 'us', 'clean', 'water', 'going', 'come', 'run', 'close', 'along', 'pier', 'let', 'go', 'front', 'rear', 'anchors', 'shell', 'turkish', 'quarter', 'town', 'would', 'blown', 'us', 'water', 'would', 'blown', 'town', 'simply', 'hell', 'fired', 'blank', 'charges', 'us', 'came', 'kemal', 'came', 'sacked', 'turkish', 'commander', 'exceeding', 'authority', 'thing', 'got', 'bit', 'would', 'hell', 'mess', 'remember', 'harbor', 'plenty', 'nice', 'things', 'floating', 'around', 'time', 'life', 'got', 'dreamed', 'things', 'didn’t', 'mind', 'women', 'babies', 'dead', 'ones', 'right', 'surprising', 'died', 'covered', 'something', 'let', 'go', 'they’d', 'always', 'pick', 'darkest', 'place', 'hold', 'none', 'minded', 'anything', 'got', 'pier', 'greeks', 'nice', 'chaps', 'evacuated', 'baggage', 'animals', 'couldn’t', 'take', 'broke', 'forelegs', 'dumped', 'shallow', 'water', 'mules', 'forelegs', 'broken', 'pushed', 'shallow', 'water', 'pleasant', 'business', 'word', 'yes', 'pleasant', 'business']\n"
     ]
    }
   ],
   "source": [
    "#creat list of punctuation symbols\n",
    "#there are better ways to do this which we'll get to later, but we'll keep it simple here\n",
    "#punctuation = [\".\", \";\", \",\", \"'\", '\"', \"!\"]\n",
    "\n",
    "#import the package 'string' for a different way of removing punctuation. It's simply a more complete list of punction than we created above.\n",
    "import string\n",
    "punctuations = list(string.punctuation)\n",
    "\n",
    "#see what punctuation is included\n",
    "print(punctuations)\n",
    "story_tokens_clean = [word for word in story_tokens_clean if word not in punctuations]\n",
    "\n",
    "#see what's left\n",
    "print(story_tokens_clean)"
   ]
  },
  {
   "cell_type": "code",
   "execution_count": 16,
   "metadata": {
    "collapsed": false
   },
   "outputs": [
    {
     "name": "stdout",
     "output_type": "stream",
     "text": [
      "[('said', 7), ('dead', 7), ('pier', 6), ('would', 6), ('turkish', 5), ('told', 5), ('water', 4), ('babies', 4), ('us', 4), ('came', 4)]\n"
     ]
    }
   ],
   "source": [
    "word_frequency_clean = nltk.FreqDist(story_tokens_clean)\n",
    "print(word_frequency_clean.most_common(10))"
   ]
  },
  {
   "cell_type": "code",
   "execution_count": 17,
   "metadata": {
    "collapsed": false
   },
   "outputs": [
    {
     "name": "stdout",
     "output_type": "stream",
     "text": [
      "[('The', 'DT'), ('strange', 'JJ'), ('thing', 'NN'), ('was', 'VBD'), (',', ','), ('he', 'PRP'), ('said', 'VBD'), (',', ','), ('how', 'WRB'), ('they', 'PRP'), ('screamed', 'VBD'), ('every', 'DT'), ('night', 'NN'), ('at', 'IN'), ('midnight', 'NN'), ('.', '.'), ('I', 'PRP'), ('do', 'VBP'), ('not', 'RB'), ('know', 'VB'), ('why', 'WRB'), ('they', 'PRP'), ('screamed', 'VBD'), ('at', 'IN'), ('that', 'DT'), ('time', 'NN'), ('.', '.'), ('We', 'PRP'), ('were', 'VBD'), ('in', 'IN'), ('the', 'DT'), ('harbor', 'NN'), ('and', 'CC'), ('they', 'PRP'), ('were', 'VBD'), ('all', 'DT'), ('on', 'IN'), ('the', 'DT'), ('pier', 'NN'), ('and', 'CC'), ('at', 'IN'), ('midnight', 'NN'), ('they', 'PRP'), ('started', 'VBD'), ('screaming', 'VBG'), ('.', '.'), ('We', 'PRP'), ('used', 'VBD'), ('to', 'TO'), ('turn', 'VB'), ('the', 'DT'), ('searchlight', 'NN'), ('on', 'IN'), ('them', 'PRP'), ('to', 'TO'), ('quiet', 'VB'), ('them', 'PRP'), ('.', '.'), ('That', 'DT'), ('always', 'RB'), ('did', 'VBD'), ('the', 'DT'), ('trick', 'NN'), ('.', '.'), ('We’d', 'NNP'), ('run', 'VBP'), ('the', 'DT'), ('searchlight', 'NN'), ('up', 'RB'), ('and', 'CC'), ('down', 'RB'), ('over', 'IN'), ('them', 'PRP'), ('two', 'CD'), ('or', 'CC'), ('three', 'CD'), ('times', 'NNS'), ('and', 'CC'), ('they', 'PRP'), ('stopped', 'VBD'), ('it', 'PRP'), ('.', '.'), ('One', 'CD'), ('time', 'NN'), ('I', 'PRP'), ('was', 'VBD'), ('senior', 'JJ'), ('officer', 'NN'), ('on', 'IN'), ('the', 'DT'), ('pier', 'NN'), ('and', 'CC'), ('a', 'DT'), ('Turkish', 'JJ'), ('officer', 'NN'), ('came', 'VBD'), ('up', 'RB'), ('to', 'TO'), ('me', 'PRP'), ('in', 'IN'), ('a', 'DT'), ('frightful', 'JJ'), ('rage', 'NN'), ('because', 'IN'), ('one', 'CD'), ('of', 'IN'), ('our', 'PRP$'), ('sailors', 'NNS'), ('had', 'VBD'), ('been', 'VBN'), ('most', 'JJS'), ('insulting', 'JJ'), ('to', 'TO'), ('him', 'PRP'), ('.', '.'), ('So', 'RB'), ('I', 'PRP'), ('told', 'VBD'), ('him', 'PRP'), ('the', 'DT'), ('fellow', 'NN'), ('would', 'MD'), ('be', 'VB'), ('sent', 'VBN'), ('on', 'IN'), ('ship', 'NN'), ('and', 'CC'), ('be', 'VB'), ('most', 'RBS'), ('severely', 'RB'), ('punished', 'JJ'), ('.', '.'), ('I', 'PRP'), ('asked', 'VBD'), ('him', 'PRP'), ('to', 'TO'), ('point', 'VB'), ('him', 'PRP'), ('out', 'RP'), ('.', '.'), ('So', 'RB'), ('he', 'PRP'), ('pointed', 'VBD'), ('out', 'RP'), ('a', 'DT'), ('gunner’s', 'NN'), ('mate', 'NN'), (',', ','), ('most', 'RBS'), ('inoffensive', 'JJ'), ('chap', 'NN'), ('.', '.'), ('Said', 'NNP'), ('he’d', 'VBP'), ('been', 'VBN'), ('most', 'RBS'), ('frightfully', 'RB'), ('and', 'CC'), ('repeatedly', 'RB'), ('insulting', 'JJ'), (';', ':'), ('talking', 'VBG'), ('to', 'TO'), ('me', 'PRP'), ('through', 'IN'), ('an', 'DT'), ('interpreter', 'NN'), ('.', '.'), ('I', 'PRP'), ('couldn’t', 'VBP'), ('imagine', 'VB'), ('how', 'WRB'), ('the', 'DT'), ('gunner’s', 'NN'), ('mate', 'NN'), ('knew', 'VBD'), ('enough', 'RB'), ('Turkish', 'JJ'), ('to', 'TO'), ('be', 'VB'), ('insulting', 'JJ'), ('.', '.'), ('I', 'PRP'), ('called', 'VBD'), ('him', 'PRP'), ('over', 'IN'), ('and', 'CC'), ('said', 'VBD'), (',', ','), ('“And', 'NNP'), ('just', 'RB'), ('in', 'IN'), ('case', 'NN'), ('you', 'PRP'), ('should', 'MD'), ('have', 'VB'), ('spoken', 'VBN'), ('to', 'TO'), ('any', 'DT'), ('Turkish', 'JJ'), ('officers.”', 'NN'), ('“I', 'NNP'), ('haven’t', 'VBZ'), ('spoken', 'VBN'), ('to', 'TO'), ('any', 'DT'), ('of', 'IN'), ('them', 'PRP'), (',', ','), ('sir.”', 'VB'), ('“I’m', 'NNP'), ('quite', 'JJ'), ('sure', 'NN'), ('of', 'IN'), ('it', 'PRP'), (',', ','), ('”', 'VBZ'), ('I', 'PRP'), ('said', 'VBD'), (',', ','), ('“but', 'NNP'), ('you’d', 'NNP'), ('best', 'JJS'), ('go', 'VBP'), ('on', 'IN'), ('board', 'NN'), ('ship', 'NN'), ('and', 'CC'), ('not', 'RB'), ('come', 'VBN'), ('ashore', 'RB'), ('again', 'RB'), ('for', 'IN'), ('the', 'DT'), ('rest', 'NN'), ('of', 'IN'), ('the', 'DT'), ('day.”', 'NN'), ('Then', 'RB'), ('I', 'PRP'), ('told', 'VBD'), ('the', 'DT'), ('Turk', 'NNP'), ('the', 'DT'), ('man', 'NN'), ('was', 'VBD'), ('being', 'VBG'), ('sent', 'VBN'), ('on', 'IN'), ('board', 'NN'), ('ship', 'NN'), ('and', 'CC'), ('would', 'MD'), ('be', 'VB'), ('most', 'RBS'), ('severely', 'JJ'), ('dealt', 'NN'), ('with', 'IN'), ('.', '.'), ('Oh', 'UH'), ('most', 'RBS'), ('rigorously', 'RB'), ('.', '.'), ('He', 'PRP'), ('felt', 'VBD'), ('topping', 'VBG'), ('about', 'IN'), ('it', 'PRP'), ('.', '.'), ('Great', 'NNP'), ('friends', 'VBZ'), ('we', 'PRP'), ('were', 'VBD'), ('.', '.'), ('The', 'DT'), ('worst', 'JJS'), (',', ','), ('he', 'PRP'), ('said', 'VBD'), (',', ','), ('were', 'VBD'), ('the', 'DT'), ('women', 'NNS'), ('with', 'IN'), ('dead', 'JJ'), ('babies', 'NNS'), ('.', '.'), ('You', 'PRP'), ('couldn’t', 'VBP'), ('get', 'VB'), ('the', 'DT'), ('women', 'NNS'), ('to', 'TO'), ('give', 'VB'), ('up', 'RP'), ('their', 'PRP$'), ('dead', 'JJ'), ('babies', 'NNS'), ('.', '.'), ('They’d', 'NNP'), ('have', 'VBP'), ('babies', 'NNS'), ('dead', 'VBP'), ('for', 'IN'), ('six', 'CD'), ('days', 'NNS'), ('.', '.'), ('Wouldn’t', 'NNP'), ('give', 'VB'), ('them', 'PRP'), ('up', 'RP'), ('.', '.'), ('Nothing', 'NN'), ('you', 'PRP'), ('could', 'MD'), ('do', 'VB'), ('about', 'IN'), ('it', 'PRP'), ('.', '.'), ('Had', 'VBD'), ('to', 'TO'), ('take', 'VB'), ('them', 'PRP'), ('away', 'RB'), ('finally', 'RB'), ('.', '.'), ('Then', 'RB'), ('there', 'EX'), ('was', 'VBD'), ('an', 'DT'), ('old', 'JJ'), ('lady', 'NN'), (',', ','), ('most', 'RBS'), ('extraordinary', 'JJ'), ('case', 'NN'), ('.', '.'), ('I', 'PRP'), ('told', 'VBD'), ('it', 'PRP'), ('to', 'TO'), ('a', 'DT'), ('doctor', 'NN'), ('and', 'CC'), ('he', 'PRP'), ('said', 'VBD'), ('I', 'PRP'), ('was', 'VBD'), ('lying', 'VBG'), ('.', '.'), ('We', 'PRP'), ('were', 'VBD'), ('clearing', 'VBG'), ('them', 'PRP'), ('off', 'RP'), ('the', 'DT'), ('pier', 'NN'), (',', ','), ('had', 'VBD'), ('to', 'TO'), ('clear', 'VB'), ('off', 'RP'), ('the', 'DT'), ('dead', 'JJ'), ('ones', 'NNS'), (',', ','), ('and', 'CC'), ('this', 'DT'), ('old', 'JJ'), ('woman', 'NN'), ('was', 'VBD'), ('lying', 'VBG'), ('on', 'IN'), ('a', 'DT'), ('sort', 'NN'), ('of', 'IN'), ('litter', 'NN'), ('.', '.'), ('They', 'PRP'), ('said', 'VBD'), (',', ','), ('“Will', 'NNP'), ('you', 'PRP'), ('have', 'VBP'), ('a', 'DT'), ('look', 'NN'), ('at', 'IN'), ('her', 'PRP'), (',', ','), ('sir', 'VB'), ('?', '.'), ('”', 'NNP'), ('So', 'IN'), ('I', 'PRP'), ('had', 'VBD'), ('a', 'DT'), ('look', 'NN'), ('at', 'IN'), ('her', 'PRP$'), ('and', 'CC'), ('just', 'RB'), ('then', 'RB'), ('she', 'PRP'), ('died', 'VBD'), ('and', 'CC'), ('went', 'VBD'), ('absolutely', 'RB'), ('stiff', 'JJ'), ('.', '.'), ('Her', 'PRP$'), ('legs', 'NNS'), ('drew', 'VBD'), ('up', 'RP'), ('and', 'CC'), ('she', 'PRP'), ('drew', 'VBD'), ('up', 'RB'), ('from', 'IN'), ('the', 'DT'), ('waist', 'NN'), ('and', 'CC'), ('went', 'VBD'), ('quite', 'RB'), ('rigid', 'JJ'), ('.', '.'), ('Exactly', 'RB'), ('as', 'IN'), ('though', 'IN'), ('she', 'PRP'), ('had', 'VBD'), ('been', 'VBN'), ('dead', 'JJ'), ('over', 'IN'), ('night', 'NN'), ('.', '.'), ('She', 'PRP'), ('was', 'VBD'), ('quite', 'RB'), ('dead', 'JJ'), ('and', 'CC'), ('absolutely', 'RB'), ('rigid', 'JJ'), ('.', '.'), ('I', 'PRP'), ('told', 'VBD'), ('a', 'DT'), ('medical', 'JJ'), ('chap', 'NN'), ('about', 'IN'), ('it', 'PRP'), ('and', 'CC'), ('he', 'PRP'), ('told', 'VBD'), ('me', 'PRP'), ('it', 'PRP'), ('was', 'VBD'), ('impossible', 'JJ'), ('.', '.'), ('They', 'PRP'), ('were', 'VBD'), ('all', 'DT'), ('out', 'IN'), ('there', 'RB'), ('on', 'IN'), ('the', 'DT'), ('pier', 'NN'), ('and', 'CC'), ('it', 'PRP'), ('wasn’t', 'VBZ'), ('at', 'IN'), ('all', 'DT'), ('like', 'IN'), ('an', 'DT'), ('earthquake', 'NN'), ('or', 'CC'), ('that', 'IN'), ('sort', 'NN'), ('of', 'IN'), ('thing', 'NN'), ('because', 'IN'), ('they', 'PRP'), ('never', 'RB'), ('knew', 'VBD'), ('about', 'IN'), ('the', 'DT'), ('Turk', 'NNP'), ('.', '.'), ('They', 'PRP'), ('never', 'RB'), ('knew', 'VBD'), ('what', 'WP'), ('the', 'DT'), ('old', 'JJ'), ('Turk', 'NNP'), ('would', 'MD'), ('do', 'VB'), ('.', '.'), ('You', 'PRP'), ('remember', 'VBP'), ('when', 'WRB'), ('they', 'PRP'), ('ordered', 'VBD'), ('us', 'PRP'), ('not', 'RB'), ('to', 'TO'), ('come', 'VB'), ('in', 'IN'), ('to', 'TO'), ('take', 'VB'), ('off', 'RP'), ('any', 'DT'), ('more', 'JJR'), ('?', '.'), ('I', 'PRP'), ('had', 'VBD'), ('the', 'DT'), ('wind', 'NN'), ('up', 'RP'), ('when', 'WRB'), ('we', 'PRP'), ('came', 'VBD'), ('in', 'IN'), ('that', 'DT'), ('morning', 'NN'), ('.', '.'), ('He', 'PRP'), ('had', 'VBD'), ('any', 'DT'), ('amount', 'NN'), ('of', 'IN'), ('batteries', 'NNS'), ('and', 'CC'), ('could', 'MD'), ('have', 'VB'), ('blown', 'VBN'), ('us', 'PRP'), ('clean', 'VBP'), ('out', 'IN'), ('of', 'IN'), ('the', 'DT'), ('water', 'NN'), ('.', '.'), ('We', 'PRP'), ('were', 'VBD'), ('going', 'VBG'), ('to', 'TO'), ('come', 'VB'), ('in', 'IN'), (',', ','), ('run', 'VBP'), ('close', 'RB'), ('along', 'IN'), ('the', 'DT'), ('pier', 'NN'), (',', ','), ('let', 'VB'), ('go', 'VB'), ('the', 'DT'), ('front', 'NN'), ('and', 'CC'), ('rear', 'JJ'), ('anchors', 'NNS'), ('and', 'CC'), ('then', 'RB'), ('shell', 'VB'), ('the', 'DT'), ('Turkish', 'JJ'), ('quarter', 'NN'), ('of', 'IN'), ('the', 'DT'), ('town', 'NN'), ('.', '.'), ('They', 'PRP'), ('would', 'MD'), ('have', 'VB'), ('blown', 'VBN'), ('us', 'PRP'), ('out', 'IN'), ('of', 'IN'), ('water', 'NN'), ('but', 'CC'), ('we', 'PRP'), ('would', 'MD'), ('have', 'VB'), ('blown', 'VBN'), ('the', 'DT'), ('town', 'NN'), ('simply', 'RB'), ('to', 'TO'), ('hell', 'VB'), ('.', '.'), ('They', 'PRP'), ('just', 'RB'), ('fired', 'VBD'), ('a', 'DT'), ('few', 'JJ'), ('blank', 'NN'), ('charges', 'NNS'), ('at', 'IN'), ('us', 'PRP'), ('as', 'IN'), ('we', 'PRP'), ('came', 'VBD'), ('in', 'IN'), ('.', '.'), ('Kemal', 'NNP'), ('came', 'VBD'), ('down', 'RB'), ('and', 'CC'), ('sacked', 'VBD'), ('the', 'DT'), ('Turkish', 'JJ'), ('commander', 'NN'), ('.', '.'), ('For', 'IN'), ('exceeding', 'VBG'), ('his', 'PRP$'), ('authority', 'NN'), ('or', 'CC'), ('some', 'DT'), ('such', 'JJ'), ('thing', 'NN'), ('.', '.'), ('He', 'PRP'), ('got', 'VBD'), ('a', 'DT'), ('bit', 'NN'), ('above', 'IN'), ('himself', 'PRP'), ('.', '.'), ('It', 'PRP'), ('would', 'MD'), ('have', 'VB'), ('been', 'VBN'), ('the', 'DT'), ('hell', 'NN'), ('of', 'IN'), ('a', 'DT'), ('mess', 'NN'), ('.', '.'), ('You', 'PRP'), ('remember', 'VBP'), ('the', 'DT'), ('harbor', 'NN'), ('.', '.'), ('There', 'EX'), ('were', 'VBD'), ('plenty', 'NN'), ('of', 'IN'), ('nice', 'JJ'), ('things', 'NNS'), ('floating', 'VBG'), ('around', 'RB'), ('in', 'IN'), ('it', 'PRP'), ('.', '.'), ('That', 'DT'), ('was', 'VBD'), ('the', 'DT'), ('only', 'JJ'), ('time', 'NN'), ('in', 'IN'), ('my', 'PRP$'), ('life', 'NN'), ('I', 'PRP'), ('got', 'VBD'), ('so', 'RB'), ('I', 'PRP'), ('dreamed', 'VBP'), ('about', 'IN'), ('things', 'NNS'), ('.', '.'), ('You', 'PRP'), ('didn’t', 'VBP'), ('mind', 'VB'), ('the', 'DT'), ('women', 'NNS'), ('who', 'WP'), ('were', 'VBD'), ('having', 'VBG'), ('babies', 'NNS'), ('as', 'IN'), ('you', 'PRP'), ('did', 'VBD'), ('those', 'DT'), ('with', 'IN'), ('the', 'DT'), ('dead', 'JJ'), ('ones', 'NNS'), ('.', '.'), ('They', 'PRP'), ('had', 'VBD'), ('them', 'PRP'), ('all', 'DT'), ('right', 'NN'), ('.', '.'), ('Surprising', 'NNP'), ('how', 'WRB'), ('few', 'JJ'), ('of', 'IN'), ('them', 'PRP'), ('died', 'VBD'), ('.', '.'), ('You', 'PRP'), ('just', 'RB'), ('covered', 'VBD'), ('them', 'PRP'), ('over', 'RP'), ('with', 'IN'), ('something', 'NN'), ('and', 'CC'), ('let', 'VB'), ('them', 'PRP'), ('go', 'VB'), ('to', 'TO'), ('it', 'PRP'), ('.', '.'), ('They’d', 'NNP'), ('always', 'RB'), ('pick', 'VBP'), ('out', 'RP'), ('the', 'DT'), ('darkest', 'JJS'), ('place', 'NN'), ('in', 'IN'), ('the', 'DT'), ('hold', 'NN'), ('to', 'TO'), ('have', 'VB'), ('them', 'PRP'), ('.', '.'), ('None', 'NN'), ('of', 'IN'), ('them', 'PRP'), ('minded', 'VBD'), ('anything', 'NN'), ('once', 'RB'), ('they', 'PRP'), ('got', 'VBD'), ('off', 'RP'), ('the', 'DT'), ('pier', 'NN'), ('.', '.'), ('The', 'DT'), ('Greeks', 'NNPS'), ('were', 'VBD'), ('nice', 'JJ'), ('chaps', 'NNS'), ('too', 'RB'), ('.', '.'), ('When', 'WRB'), ('they', 'PRP'), ('evacuated', 'VBD'), ('they', 'PRP'), ('had', 'VBD'), ('all', 'DT'), ('their', 'PRP$'), ('baggage', 'NN'), ('animals', 'NNS'), ('they', 'PRP'), ('couldn’t', 'VBP'), ('take', 'VB'), ('off', 'RP'), ('with', 'IN'), ('them', 'PRP'), ('so', 'RB'), ('they', 'PRP'), ('just', 'RB'), ('broke', 'VBD'), ('their', 'PRP$'), ('forelegs', 'NN'), ('and', 'CC'), ('dumped', 'VBD'), ('them', 'PRP'), ('into', 'IN'), ('the', 'DT'), ('shallow', 'JJ'), ('water', 'NN'), ('.', '.'), ('All', 'PDT'), ('those', 'DT'), ('mules', 'NNS'), ('with', 'IN'), ('their', 'PRP$'), ('forelegs', 'NNS'), ('broken', 'VBN'), ('pushed', 'VBN'), ('over', 'IN'), ('into', 'IN'), ('the', 'DT'), ('shallow', 'JJ'), ('water', 'NN'), ('.', '.'), ('It', 'PRP'), ('was', 'VBD'), ('all', 'PDT'), ('a', 'DT'), ('pleasant', 'JJ'), ('business', 'NN'), ('.', '.'), ('My', 'PRP$'), ('word', 'NN'), ('yes', 'VBZ'), ('a', 'DT'), ('most', 'RBS'), ('pleasant', 'JJ'), ('business', 'NN'), ('.', '.')]\n"
     ]
    }
   ],
   "source": [
    "#use the nltk pos function to tag the tokens\n",
    "tagged_story_tokens = nltk.pos_tag(story_tokens)\n",
    "\n",
    "#view new variable\n",
    "print(tagged_story_tokens)"
   ]
  },
  {
   "cell_type": "code",
   "execution_count": 18,
   "metadata": {
    "collapsed": false
   },
   "outputs": [
    {
     "data": {
      "text/plain": [
       "[('PRP', 103),\n",
       " ('NN', 86),\n",
       " ('VBD', 75),\n",
       " ('DT', 75),\n",
       " ('IN', 75),\n",
       " ('.', 57),\n",
       " ('RB', 45),\n",
       " ('JJ', 41),\n",
       " ('VB', 35),\n",
       " ('CC', 29),\n",
       " ('NNS', 22),\n",
       " ('TO', 19),\n",
       " ('NNP', 18),\n",
       " ('VBP', 17),\n",
       " (',', 16),\n",
       " ('VBN', 14),\n",
       " ('RP', 13),\n",
       " ('VBG', 11),\n",
       " ('PRP$', 10),\n",
       " ('MD', 9),\n",
       " ('WRB', 7),\n",
       " ('RBS', 7),\n",
       " ('CD', 5),\n",
       " ('VBZ', 5),\n",
       " ('JJS', 4),\n",
       " ('PDT', 2),\n",
       " ('WP', 2),\n",
       " ('EX', 2),\n",
       " ('JJR', 1),\n",
       " ('NNPS', 1),\n",
       " (':', 1),\n",
       " ('UH', 1)]"
      ]
     },
     "execution_count": 18,
     "metadata": {},
     "output_type": "execute_result"
    }
   ],
   "source": [
    "tagged_frequency = nltk.FreqDist(tag for (word, tag) in tagged_story_tokens)\n",
    "tagged_frequency.most_common()"
   ]
  },
  {
   "cell_type": "code",
   "execution_count": 19,
   "metadata": {
    "collapsed": false
   },
   "outputs": [
    {
     "name": "stdout",
     "output_type": "stream",
     "text": [
      "['strange', 'senior', 'Turkish', 'frightful', 'most', 'insulting', 'punished', 'inoffensive', 'insulting', 'Turkish', 'insulting', 'Turkish', 'quite', 'best', 'severely', 'worst', 'dead', 'dead', 'old', 'extraordinary', 'dead', 'old', 'stiff', 'rigid', 'dead', 'dead', 'rigid', 'medical', 'impossible', 'old', 'more', 'rear', 'Turkish', 'few', 'Turkish', 'such', 'nice', 'only', 'dead', 'few', 'darkest', 'nice', 'shallow', 'shallow', 'pleasant', 'pleasant']\n"
     ]
    }
   ],
   "source": [
    "adjectives = [word for word,pos in tagged_story_tokens if pos == 'JJ' or pos=='JJR' or pos=='JJS']\n",
    "\n",
    "#print all of the adjectives\n",
    "print(adjectives)"
   ]
  },
  {
   "cell_type": "code",
   "execution_count": 20,
   "metadata": {
    "collapsed": false
   },
   "outputs": [
    {
     "name": "stdout",
     "output_type": "stream",
     "text": [
      "[('dead', 6), ('Turkish', 5), ('old', 3), ('insulting', 3), ('pleasant', 2)]\n"
     ]
    }
   ],
   "source": [
    "#calculate the frequency of the adjectives\n",
    "freq_adjectives=nltk.FreqDist(adjectives)\n",
    "\n",
    "#print the most frequent adjectives\n",
    "print(freq_adjectives.most_common(5))"
   ]
  },
  {
   "cell_type": "code",
   "execution_count": 21,
   "metadata": {
    "collapsed": false
   },
   "outputs": [
    {
     "name": "stdout",
     "output_type": "stream",
     "text": [
      "['thing', 'night', 'midnight', 'time', 'harbor', 'pier', 'midnight', 'searchlight', 'trick', 'searchlight', 'times', 'time', 'officer', 'pier', 'officer', 'rage', 'sailors', 'fellow', 'ship', 'gunner’s', 'mate', 'chap', 'interpreter', 'gunner’s', 'mate', 'case', 'officers.”', 'sure', 'board', 'ship', 'rest', 'day.”', 'man', 'board', 'ship', 'dealt', 'women', 'babies', 'women', 'babies', 'babies', 'days', 'Nothing', 'lady', 'case', 'doctor', 'pier', 'ones', 'woman', 'sort', 'litter', 'look', 'look', 'legs', 'waist', 'night', 'chap', 'pier', 'earthquake', 'sort', 'thing', 'wind', 'morning', 'amount', 'batteries', 'water', 'pier', 'front', 'anchors', 'quarter', 'town', 'water', 'town', 'blank', 'charges', 'commander', 'authority', 'thing', 'bit', 'hell', 'mess', 'harbor', 'plenty', 'things', 'time', 'life', 'things', 'women', 'babies', 'ones', 'right', 'something', 'place', 'hold', 'None', 'anything', 'pier', 'chaps', 'baggage', 'animals', 'forelegs', 'water', 'mules', 'forelegs', 'water', 'business', 'word', 'business']\n"
     ]
    }
   ],
   "source": [
    "nouns = [word for word,pos in tagged_story_tokens if pos=='NN' or pos=='NNS']\n",
    "\n",
    "#print all of the nouns\n",
    "print(nouns)"
   ]
  },
  {
   "cell_type": "code",
   "execution_count": 22,
   "metadata": {
    "collapsed": false
   },
   "outputs": [
    {
     "name": "stdout",
     "output_type": "stream",
     "text": [
      "[('pier', 6), ('water', 4), ('babies', 4), ('women', 3), ('thing', 3)]\n"
     ]
    }
   ],
   "source": [
    "#calculate the frequency of the nouns\n",
    "freq_nouns=nltk.FreqDist(nouns)\n",
    "\n",
    "#print the most frequent nouns\n",
    "print(freq_nouns.most_common(5))"
   ]
  },
  {
   "cell_type": "code",
   "execution_count": 23,
   "metadata": {
    "collapsed": false
   },
   "outputs": [
    {
     "name": "stdout",
     "output_type": "stream",
     "text": [
      "['was', 'said', 'screamed', 'do', 'know', 'screamed', 'were', 'were', 'started', 'screaming', 'used', 'turn', 'quiet', 'did', 'run', 'stopped', 'was', 'came', 'had', 'been', 'told', 'be', 'sent', 'be', 'asked', 'point', 'pointed', 'he’d', 'been', 'talking', 'couldn’t', 'imagine', 'knew', 'be', 'called', 'said', 'have', 'spoken', 'haven’t', 'spoken', 'sir.”', '”', 'said', 'go', 'come', 'told', 'was', 'being', 'sent', 'be', 'felt', 'topping', 'friends', 'were', 'said', 'were', 'couldn’t', 'get', 'give', 'have', 'dead', 'give', 'do', 'Had', 'take', 'was', 'told', 'said', 'was', 'lying', 'were', 'clearing', 'had', 'clear', 'was', 'lying', 'said', 'have', 'sir', 'had', 'died', 'went', 'drew', 'drew', 'went', 'had', 'been', 'was', 'told', 'told', 'was', 'were', 'wasn’t', 'knew', 'knew', 'do', 'remember', 'ordered', 'come', 'take', 'had', 'came', 'had', 'have', 'blown', 'clean', 'were', 'going', 'come', 'run', 'let', 'go', 'shell', 'have', 'blown', 'have', 'blown', 'hell', 'fired', 'came', 'came', 'sacked', 'exceeding', 'got', 'have', 'been', 'remember', 'were', 'floating', 'was', 'got', 'dreamed', 'didn’t', 'mind', 'were', 'having', 'did', 'had', 'died', 'covered', 'let', 'go', 'pick', 'have', 'minded', 'got', 'were', 'evacuated', 'had', 'couldn’t', 'take', 'broke', 'dumped', 'broken', 'pushed', 'was', 'yes']\n"
     ]
    }
   ],
   "source": [
    "verbs = [word for word,pos in tagged_story_tokens if pos == 'VB' or pos=='VBD' or pos=='VBG' or pos=='VBN' or pos=='VBP' or pos=='VBZ']\n",
    "\n",
    "#print all of the verbs\n",
    "print(verbs)"
   ]
  },
  {
   "cell_type": "code",
   "execution_count": 24,
   "metadata": {
    "collapsed": false
   },
   "outputs": [
    {
     "name": "stdout",
     "output_type": "stream",
     "text": [
      "[('were', 10), ('was', 10), ('had', 8), ('have', 8), ('said', 6)]\n"
     ]
    }
   ],
   "source": [
    "#calculate the frequency of the nouns\n",
    "freq_verbs=nltk.FreqDist(verbs)\n",
    "\n",
    "#print the most frequent nouns\n",
    "print(freq_verbs.most_common(5))"
   ]
  },
  {
   "cell_type": "code",
   "execution_count": 25,
   "metadata": {
    "collapsed": false
   },
   "outputs": [
    {
     "name": "stdout",
     "output_type": "stream",
     "text": [
      "[('dead', 6), ('Turkish', 5), ('old', 3)]\n",
      "[('pier', 6), ('water', 4), ('babies', 4)]\n",
      "[('were', 10), ('was', 10), ('had', 8)]\n"
     ]
    }
   ],
   "source": [
    "print(freq_adjectives.most_common(3))\n",
    "print(freq_nouns.most_common(3))\n",
    "print(freq_verbs.most_common(3))"
   ]
  },
  {
   "cell_type": "code",
   "execution_count": 26,
   "metadata": {
    "collapsed": false
   },
   "outputs": [
    {
     "name": "stdout",
     "output_type": "stream",
     "text": [
      "Frequent words for Story:\n",
      "_________________________\n",
      ".\n",
      "the\n",
      "and\n",
      "to\n",
      ",\n",
      "I\n",
      "them\n",
      "of\n",
      "a\n",
      "they\n",
      "in\n",
      "was\n",
      "were\n",
      "it\n",
      "have\n",
      "most\n",
      "on\n",
      "had\n",
      "at\n",
      "dead\n",
      "\n",
      "Frequent adjectives for Story\n",
      "________________________\n",
      "dead\n",
      "Turkish\n",
      "old\n",
      "insulting\n",
      "pleasant\n",
      "nice\n",
      "few\n",
      "rigid\n",
      "shallow\n",
      "only\n",
      "worst\n",
      "impossible\n",
      "inoffensive\n",
      "senior\n",
      "frightful\n",
      "extraordinary\n",
      "strange\n",
      "more\n",
      "severely\n",
      "most\n",
      "\n",
      "Frequent nouns for Story\n",
      "________________________\n",
      "pier\n",
      "water\n",
      "babies\n",
      "women\n",
      "thing\n",
      "ship\n",
      "time\n",
      "board\n",
      "look\n",
      "things\n",
      "searchlight\n",
      "town\n",
      "business\n",
      "case\n",
      "midnight\n",
      "chap\n",
      "mate\n",
      "ones\n",
      "harbor\n",
      "forelegs\n",
      "\n",
      "Frequent verbs for Story\n",
      "________________________\n",
      "were\n",
      "was\n",
      "had\n",
      "have\n",
      "said\n",
      "told\n",
      "be\n",
      "been\n",
      "came\n",
      "go\n",
      "couldn’t\n",
      "blown\n",
      "knew\n",
      "got\n",
      "come\n",
      "do\n",
      "take\n",
      "sent\n",
      "run\n",
      "let\n"
     ]
    }
   ],
   "source": [
    "print(\"Frequent words for Story:\")\n",
    "print(\"_________________________\")\n",
    "\n",
    "for word in story_word_frequency.most_common(20):\n",
    "    print(word[0])\n",
    "print()\n",
    "print(\"Frequent adjectives for Story\")\n",
    "print(\"________________________\")\n",
    "for word in freq_adjectives.most_common(20):\n",
    "    print(word[0])\n",
    "print()\n",
    "print(\"Frequent nouns for Story\")\n",
    "print(\"________________________\")\n",
    "for word in freq_nouns.most_common(20):\n",
    "    print(word[0])\n",
    "print()\n",
    "print(\"Frequent verbs for Story\")\n",
    "print(\"________________________\")\n",
    "for word in freq_verbs.most_common(20):\n",
    "    print(word[0])"
   ]
  },
  {
   "cell_type": "code",
   "execution_count": 27,
   "metadata": {
    "collapsed": false
   },
   "outputs": [
    {
     "name": "stdout",
     "output_type": "stream",
     "text": [
      "<Text: The strange thing was , he said ,...>\n"
     ]
    }
   ],
   "source": [
    "#story_tokens_clean\n",
    "#then transform the tokenized text into an NLTK text object\n",
    "story_nltk = nltk.Text(story_tokens)\n",
    "\n",
    "#the variable story_nltk is now a nltk text object:\n",
    "print(story_nltk)"
   ]
  },
  {
   "cell_type": "code",
   "execution_count": 28,
   "metadata": {
    "collapsed": false
   },
   "outputs": [
    {
     "name": "stdout",
     "output_type": "stream",
     "text": [
      "Displaying 6 of 6 matches:\n",
      " the harbor and they were all on the pier and at midnight they started screami\n",
      "One time I was senior officer on the pier and a Turkish officer came up to me \n",
      "ying . We were clearing them off the pier , had to clear off the dead ones , a\n",
      "ble . They were all out there on the pier and it wasn’t at all like an earthqu\n",
      "ing to come in , run close along the pier , let go the front and rear anchors \n",
      "inded anything once they got off the pier . The Greeks were nice chaps too . W\n",
      "\n"
     ]
    }
   ],
   "source": [
    "story_nltk.concordance(\"pier\") # could investigate his references to women\n",
    "print()"
   ]
  },
  {
   "cell_type": "code",
   "execution_count": 29,
   "metadata": {
    "collapsed": false
   },
   "outputs": [
    {
     "name": "stdout",
     "output_type": "stream",
     "text": [
      "turk harbor front waist\n"
     ]
    }
   ],
   "source": [
    "story_nltk.similar(\"pier\")"
   ]
  },
  {
   "cell_type": "code",
   "execution_count": 31,
   "metadata": {
    "collapsed": false
   },
   "outputs": [
    {
     "name": "stdout",
     "output_type": "stream",
     "text": [
      "IOT file found:\t IOT_BigTwoHeartedRiverPartI.txt\n",
      "IOT file found:\t IOT_BigTwoHeartedRiverPartII.txt\n",
      "IOT file found:\t IOT_CatInTheRain.txt\n",
      "IOT file found:\t IOT_CrossCountrySnow.txt\n",
      "IOT file found:\t IOT_EndOfSomething.txt\n",
      "IOT file found:\t IOT_IndianCamp.txt\n",
      "IOT file found:\t IOT_InOurTime_NoChapters.txt\n",
      "IOT file found:\t IOT_MrAndMrsElliot.txt\n",
      "IOT file found:\t IOT_MyOldMan.txt\n",
      "IOT file found:\t IOT_OnTheQuaiAtSmyrna.txt\n",
      "IOT file found:\t IOT_OutOfSeason.txt\n",
      "IOT file found:\t IOT_SoldiersHome.txt\n",
      "IOT file found:\t IOT_TheBattler.txt\n",
      "IOT file found:\t IOT_TheDrAndTheDrWife.txt\n",
      "IOT file found:\t IOT_TheRevolutionist.txt\n",
      "IOT file found:\t IOT_ThreeDayBlow.txt\n",
      "IOT file found:\t IOT_VeryShortStory.txt\n",
      "Total files found:\t 18\n"
     ]
    }
   ],
   "source": [
    "# Experimentation -- trying to make it possible to run all code above on each text file in folder automatically\n",
    "\n",
    "location = os.getcwd() # get present working directory location here\n",
    "location\n",
    "counter = 0\n",
    "IOTfiles = [] #list to store all IOT files found at location\n",
    "otherfiles = [] #list to keep any other file that do not match the criteria\n",
    "\n",
    "for file in os.listdir(location):\n",
    "    try:\n",
    "        if file.endswith(\".txt\"):\n",
    "            print(\"IOT file found:\\t\", file)\n",
    "            IOTfiles.append(str(file))\n",
    "            counter = counter+1\n",
    "        else:\n",
    "            otherfiles.append(file)\n",
    "            counter = counter+1\n",
    "    except Exception as e:\n",
    "        raise e\n",
    "        print(\"No files found here!\")\n",
    "\n",
    "print(\"Total files found:\\t\", counter)\n",
    "#http://stackoverflow.com/questions/18262293/python-open-every-file-in-a-folder"
   ]
  },
  {
   "cell_type": "code",
   "execution_count": null,
   "metadata": {
    "collapsed": true
   },
   "outputs": [],
   "source": []
  }
 ],
 "metadata": {
  "kernelspec": {
   "display_name": "Python 3",
   "language": "python",
   "name": "python3"
  },
  "language_info": {
   "codemirror_mode": {
    "name": "ipython",
    "version": 3
   },
   "file_extension": ".py",
   "mimetype": "text/x-python",
   "name": "python",
   "nbconvert_exporter": "python",
   "pygments_lexer": "ipython3",
   "version": "3.5.2"
  }
 },
 "nbformat": 4,
 "nbformat_minor": 2
}
